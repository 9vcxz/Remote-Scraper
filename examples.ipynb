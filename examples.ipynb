{
 "cells": [
  {
   "cell_type": "markdown",
   "id": "487d7b55",
   "metadata": {},
   "source": [
    "## Własna hierarchia wyjatków"
   ]
  },
  {
   "cell_type": "code",
   "execution_count": 6,
   "id": "ba182b71",
   "metadata": {},
   "outputs": [
    {
     "name": "stdout",
     "output_type": "stream",
     "text": [
      "{'name': 'Bartek', 'age': 30, 'email': 'bartosz111interia.pl'}\n",
      "{'name': 'Czesław', 'age': 40.5, 'email': 'czesiek123@onet.pl'}\n"
     ]
    }
   ],
   "source": [
    "import traceback\n",
    "\n",
    "class ValidationError(Exception):\n",
    "    def __init__(self, message, malformed_json=None):\n",
    "        super().__init__(message)\n",
    "        self.malformed_json = malformed_json\n",
    "\n",
    "class AgeError(ValidationError): ...\n",
    "\n",
    "class EmailError(ValidationError): ...\n",
    "\n",
    "data_json = {\n",
    "    \"user1\": {\n",
    "        \"name\": \"Adam\",\n",
    "        \"age\": 20,\n",
    "        \"email\": \"adam9876@wp.pl\"\n",
    "    },\n",
    "    \"user2\": {\n",
    "        \"name\": \"Bartek\",\n",
    "        \"age\": 30,\n",
    "        \"email\": \"bartosz111interia.pl\"\n",
    "    },\n",
    "    \"user3\": {\n",
    "        \"name\": \"Czesław\",\n",
    "        \"age\": 40.5,\n",
    "        \"email\": \"czesiek123@onet.pl\" \n",
    "    }\n",
    "}\n",
    "\n",
    "def validate_age(age):\n",
    "    if isinstance(age, int):\n",
    "        return True\n",
    "    else:\n",
    "        raise AgeError(f\"Age type must be an int, got instead: {type(age)},\")\n",
    "\n",
    "def validate_email(email):\n",
    "    if \"@\" in email:\n",
    "        return True\n",
    "    else:\n",
    "        raise EmailError(f\"Invalid email: {email}\")\n",
    "    \n",
    "def validate_user_data(user_data):\n",
    "    try: \n",
    "        validate_age(user_data['age'])\n",
    "        validate_email(user_data['email'])\n",
    "    except (AgeError, EmailError) as e:\n",
    "        e.malformed_json = user_data\n",
    "        raise \n",
    "\n",
    "for user_number in data_json:\n",
    "    user_data = data_json[user_number]\n",
    "    try:\n",
    "        validate_user_data(user_data)\n",
    "    except ValidationError as e:\n",
    "        print(e.malformed_json)\n",
    "        # pass\n",
    "\n"
   ]
  },
  {
   "cell_type": "markdown",
   "id": "c71cf72e",
   "metadata": {},
   "source": [
    "## Propagacja błędu"
   ]
  },
  {
   "cell_type": "markdown",
   "id": "14b6f63a",
   "metadata": {},
   "source": [
    "### 1.  Explicit chaining (raise...from), re-raise"
   ]
  },
  {
   "cell_type": "code",
   "execution_count": 2,
   "id": "28f5d8fb",
   "metadata": {},
   "outputs": [
    {
     "name": "stdout",
     "output_type": "stream",
     "text": [
      "Caught CustomError at the top level. Original cause: Attribute X not found!\n",
      "Mid level cannot function properly without this attribute! Attribute X not found!\n"
     ]
    }
   ],
   "source": [
    "import traceback\n",
    "\n",
    "class CustomException(Exception): ...\n",
    "\n",
    "def low_level():\n",
    "    raise AttributeError(\"Attribute X not found!\")\n",
    "\n",
    "def mid_level():\n",
    "    try:\n",
    "        low_level()\n",
    "    # explicit chaining\n",
    "    except AttributeError as e:\n",
    "        raise CustomException(\"Mid level cannot function properly without this attribute!\") from e\n",
    "    \n",
    "def top_level():\n",
    "    try:\n",
    "        mid_level()\n",
    "    # re-raise\n",
    "    except CustomException as e:\n",
    "        # logging error...\n",
    "        print(f'Caught CustomError at the top level. Original cause: {e.__context__}')\n",
    "        raise\n",
    "\n",
    "if __name__ == '__main__':\n",
    "    try:\n",
    "        top_level()\n",
    "    except Exception as e:\n",
    "        print(e, e.__cause__)\n",
    "        # traceback.print_exc()\n"
   ]
  },
  {
   "cell_type": "markdown",
   "id": "8c188b18",
   "metadata": {},
   "source": [
    "### 2. Implicit chaining, re-raising"
   ]
  },
  {
   "cell_type": "code",
   "execution_count": 4,
   "id": "3416e260",
   "metadata": {},
   "outputs": [
    {
     "name": "stdout",
     "output_type": "stream",
     "text": [
      "Caught CustomError at the top level. Original cause: Attribute X not found!\n",
      "'tuple' object is not callable None\n"
     ]
    }
   ],
   "source": [
    "import traceback\n",
    "\n",
    "class CustomException(Exception): ...\n",
    "\n",
    "def low_level():\n",
    "    raise AttributeError(\"Attribute X not found!\")\n",
    "\n",
    "def mid_level():\n",
    "    try:\n",
    "        low_level()\n",
    "    # implicit chaining\n",
    "    except AttributeError as e:\n",
    "        raise CustomException(\"Mid level cannot function properly without this attribute!\")\n",
    "    \n",
    "def top_level():\n",
    "    try:\n",
    "        mid_level()\n",
    "    # re-raise\n",
    "    except CustomException as e:\n",
    "        # logging error...\n",
    "        print(f'Caught CustomError at the top level. Original cause: {e.__context__}')\n",
    "        e.args()\n",
    "        raise\n",
    "\n",
    "if __name__ == '__main__':\n",
    "    try:\n",
    "        top_level()\n",
    "    except Exception as e:\n",
    "        print(e, e.__cause__)\n",
    "        # traceback.print_exc()\n"
   ]
  },
  {
   "cell_type": "markdown",
   "id": "b5f65d5c",
   "metadata": {},
   "source": [
    "### 3. Wrapping (suppressed chaining)"
   ]
  },
  {
   "cell_type": "code",
   "execution_count": 134,
   "id": "a10ba4fb",
   "metadata": {},
   "outputs": [
    {
     "name": "stdout",
     "output_type": "stream",
     "text": [
      "Caught CustomError at the top level. Original cause: Attribute X not found!\n",
      "Mid level cannot function properly without this attribute! None\n"
     ]
    },
    {
     "name": "stderr",
     "output_type": "stream",
     "text": [
      "Traceback (most recent call last):\n",
      "  File \"/tmp/ipykernel_44390/2541271532.py\", line 26, in <module>\n",
      "    top_level()\n",
      "  File \"/tmp/ipykernel_44390/2541271532.py\", line 17, in top_level\n",
      "    mid_level()\n",
      "  File \"/tmp/ipykernel_44390/2541271532.py\", line 13, in mid_level\n",
      "    raise CustomException(\"Mid level cannot function properly without this attribute!\") from None\n",
      "CustomException: Mid level cannot function properly without this attribute!\n"
     ]
    }
   ],
   "source": [
    "import traceback\n",
    "\n",
    "class CustomException(Exception): ...\n",
    "\n",
    "def low_level():\n",
    "    raise AttributeError(\"Attribute X not found!\")\n",
    "\n",
    "def mid_level():\n",
    "    try:\n",
    "        low_level()\n",
    "    # chaining\n",
    "    except AttributeError as e:\n",
    "        raise CustomException(\"Mid level cannot function properly without this attribute!\") from None\n",
    "    \n",
    "def top_level():\n",
    "    try:\n",
    "        mid_level()\n",
    "    # re-raise\n",
    "    except CustomException as e:\n",
    "        # logging error...\n",
    "        print(f'Caught CustomError at the top level. Original cause: {e.__context__}')\n",
    "        raise\n",
    "\n",
    "if __name__ == '__main__':\n",
    "    try:\n",
    "        top_level()\n",
    "    except Exception as e:\n",
    "        print(e, e.__cause__)\n",
    "        traceback.print_exc()\n"
   ]
  }
 ],
 "metadata": {
  "kernelspec": {
   "display_name": ".venv",
   "language": "python",
   "name": "python3"
  },
  "language_info": {
   "codemirror_mode": {
    "name": "ipython",
    "version": 3
   },
   "file_extension": ".py",
   "mimetype": "text/x-python",
   "name": "python",
   "nbconvert_exporter": "python",
   "pygments_lexer": "ipython3",
   "version": "3.11.2"
  }
 },
 "nbformat": 4,
 "nbformat_minor": 5
}
